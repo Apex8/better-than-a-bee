{
 "cells": [
  {
   "cell_type": "code",
   "execution_count": 1,
   "metadata": {},
   "outputs": [],
   "source": [
    "import matplotlib.pyplot as plt\n",
    "import numpy as np\n",
    "import pandas as pd"
   ]
  },
  {
   "cell_type": "code",
   "execution_count": 2,
   "metadata": {},
   "outputs": [
    {
     "data": {
      "text/html": [
       "<div>\n",
       "<style scoped>\n",
       "    .dataframe tbody tr th:only-of-type {\n",
       "        vertical-align: middle;\n",
       "    }\n",
       "\n",
       "    .dataframe tbody tr th {\n",
       "        vertical-align: top;\n",
       "    }\n",
       "\n",
       "    .dataframe thead th {\n",
       "        text-align: right;\n",
       "    }\n",
       "</style>\n",
       "<table border=\"1\" class=\"dataframe\">\n",
       "  <thead>\n",
       "    <tr style=\"text-align: right;\">\n",
       "      <th></th>\n",
       "      <th>state</th>\n",
       "      <th>numcol</th>\n",
       "      <th>yieldpercol</th>\n",
       "      <th>totalprod</th>\n",
       "      <th>stocks</th>\n",
       "      <th>priceperlb</th>\n",
       "      <th>prodvalue</th>\n",
       "      <th>year</th>\n",
       "      <th>StateName</th>\n",
       "      <th>Region</th>\n",
       "      <th>nCLOTHIANIDIN</th>\n",
       "      <th>nIMIDACLOPRID</th>\n",
       "      <th>nTHIAMETHOXAM</th>\n",
       "      <th>nACETAMIPRID</th>\n",
       "      <th>nTHIACLOPRID</th>\n",
       "      <th>nAllNeonic</th>\n",
       "    </tr>\n",
       "  </thead>\n",
       "  <tbody>\n",
       "    <tr>\n",
       "      <th>0</th>\n",
       "      <td>AL</td>\n",
       "      <td>11000.0</td>\n",
       "      <td>56</td>\n",
       "      <td>616000.0</td>\n",
       "      <td>209000.0</td>\n",
       "      <td>1.49</td>\n",
       "      <td>918000.0</td>\n",
       "      <td>2007</td>\n",
       "      <td>Alabama</td>\n",
       "      <td>South</td>\n",
       "      <td>7696.2</td>\n",
       "      <td>3258.1</td>\n",
       "      <td>4149.6</td>\n",
       "      <td>0.0</td>\n",
       "      <td>0.0</td>\n",
       "      <td>15103.9</td>\n",
       "    </tr>\n",
       "    <tr>\n",
       "      <th>1</th>\n",
       "      <td>AL</td>\n",
       "      <td>11000.0</td>\n",
       "      <td>72</td>\n",
       "      <td>792000.0</td>\n",
       "      <td>230000.0</td>\n",
       "      <td>1.21</td>\n",
       "      <td>958000.0</td>\n",
       "      <td>2006</td>\n",
       "      <td>Alabama</td>\n",
       "      <td>South</td>\n",
       "      <td>680.0</td>\n",
       "      <td>4230.2</td>\n",
       "      <td>5371.6</td>\n",
       "      <td>0.0</td>\n",
       "      <td>0.0</td>\n",
       "      <td>10281.8</td>\n",
       "    </tr>\n",
       "    <tr>\n",
       "      <th>2</th>\n",
       "      <td>AL</td>\n",
       "      <td>12000.0</td>\n",
       "      <td>86</td>\n",
       "      <td>1032000.0</td>\n",
       "      <td>103000.0</td>\n",
       "      <td>1.18</td>\n",
       "      <td>1218000.0</td>\n",
       "      <td>2002</td>\n",
       "      <td>Alabama</td>\n",
       "      <td>South</td>\n",
       "      <td>0.0</td>\n",
       "      <td>1178.8</td>\n",
       "      <td>840.4</td>\n",
       "      <td>0.0</td>\n",
       "      <td>0.0</td>\n",
       "      <td>2019.2</td>\n",
       "    </tr>\n",
       "    <tr>\n",
       "      <th>3</th>\n",
       "      <td>AL</td>\n",
       "      <td>12000.0</td>\n",
       "      <td>87</td>\n",
       "      <td>1044000.0</td>\n",
       "      <td>282000.0</td>\n",
       "      <td>1.41</td>\n",
       "      <td>1472000.0</td>\n",
       "      <td>2004</td>\n",
       "      <td>Alabama</td>\n",
       "      <td>South</td>\n",
       "      <td>2676.4</td>\n",
       "      <td>1323.9</td>\n",
       "      <td>3863.9</td>\n",
       "      <td>0.0</td>\n",
       "      <td>0.0</td>\n",
       "      <td>7864.2</td>\n",
       "    </tr>\n",
       "    <tr>\n",
       "      <th>4</th>\n",
       "      <td>AL</td>\n",
       "      <td>13000.0</td>\n",
       "      <td>66</td>\n",
       "      <td>858000.0</td>\n",
       "      <td>266000.0</td>\n",
       "      <td>1.02</td>\n",
       "      <td>875000.0</td>\n",
       "      <td>2005</td>\n",
       "      <td>Alabama</td>\n",
       "      <td>South</td>\n",
       "      <td>1503.6</td>\n",
       "      <td>994.5</td>\n",
       "      <td>5493.9</td>\n",
       "      <td>0.0</td>\n",
       "      <td>0.0</td>\n",
       "      <td>7992.0</td>\n",
       "    </tr>\n",
       "  </tbody>\n",
       "</table>\n",
       "</div>"
      ],
      "text/plain": [
       "  state   numcol  yieldpercol  totalprod    stocks  priceperlb  prodvalue  \\\n",
       "0    AL  11000.0           56   616000.0  209000.0        1.49   918000.0   \n",
       "1    AL  11000.0           72   792000.0  230000.0        1.21   958000.0   \n",
       "2    AL  12000.0           86  1032000.0  103000.0        1.18  1218000.0   \n",
       "3    AL  12000.0           87  1044000.0  282000.0        1.41  1472000.0   \n",
       "4    AL  13000.0           66   858000.0  266000.0        1.02   875000.0   \n",
       "\n",
       "   year StateName Region  nCLOTHIANIDIN  nIMIDACLOPRID  nTHIAMETHOXAM  \\\n",
       "0  2007   Alabama  South         7696.2         3258.1         4149.6   \n",
       "1  2006   Alabama  South          680.0         4230.2         5371.6   \n",
       "2  2002   Alabama  South            0.0         1178.8          840.4   \n",
       "3  2004   Alabama  South         2676.4         1323.9         3863.9   \n",
       "4  2005   Alabama  South         1503.6          994.5         5493.9   \n",
       "\n",
       "   nACETAMIPRID  nTHIACLOPRID  nAllNeonic  \n",
       "0           0.0           0.0     15103.9  \n",
       "1           0.0           0.0     10281.8  \n",
       "2           0.0           0.0      2019.2  \n",
       "3           0.0           0.0      7864.2  \n",
       "4           0.0           0.0      7992.0  "
      ]
     },
     "execution_count": 2,
     "metadata": {},
     "output_type": "execute_result"
    }
   ],
   "source": [
    "# Read the csv file into a pandas DataFrame\n",
    "\n",
    "data = pd.read_csv('Data/Data_Machine_Learning/Kaggle_Honey_Pesticide.csv')\n",
    "data = data.dropna(axis='columns', how='all')\n",
    "# Drop the null rows\n",
    "data = data.dropna()\n",
    "data.head()"
   ]
  },
  {
   "cell_type": "code",
   "execution_count": 3,
   "metadata": {},
   "outputs": [
    {
     "name": "stdout",
     "output_type": "stream",
     "text": [
      "(761, 8) (761, 1)\n"
     ]
    }
   ],
   "source": [
    "# Assign the data to X and y\n",
    "\n",
    "X = data[[\"nCLOTHIANIDIN\", \n",
    "          \"nIMIDACLOPRID\", \n",
    "          \"nTHIAMETHOXAM\", \n",
    "          \"nACETAMIPRID\", \n",
    "          \"nTHIACLOPRID\",\n",
    "          \"nAllNeonic\",\n",
    "          \"numcol\",\n",
    "          \"totalprod\",\n",
    "          #\"stocks\",\n",
    "          #\"priceperlb\",\n",
    "          #\"yieldpercol\",\n",
    "          #\"prodvalue\"\n",
    "         ]]\n",
    "y = data[\"prodvalue\"].values.reshape(-1, 1)\n",
    "print(X.shape, y.shape)"
   ]
  },
  {
   "cell_type": "code",
   "execution_count": 4,
   "metadata": {},
   "outputs": [],
   "source": [
    "# Split the data into training and testing\n",
    "\n",
    "### BEGIN SOLUTION\n",
    "from sklearn.model_selection import train_test_split\n",
    "\n",
    "X_train, X_test, y_train, y_test = train_test_split(X, y, random_state=42)\n",
    "### END SOLUTION"
   ]
  },
  {
   "cell_type": "code",
   "execution_count": 5,
   "metadata": {},
   "outputs": [],
   "source": [
    "from sklearn.preprocessing import StandardScaler\n",
    "\n",
    "# Create a StandardScater model and fit it to the training data\n",
    "\n",
    "### BEGIN SOLUTION\n",
    "X_scaler = StandardScaler().fit(X_train)\n",
    "y_scaler = StandardScaler().fit(y_train)\n",
    "### END SOLUTION"
   ]
  },
  {
   "cell_type": "code",
   "execution_count": 6,
   "metadata": {},
   "outputs": [],
   "source": [
    "# Transform the training and testing data using the X_scaler and y_scaler models\n",
    "\n",
    "### BEGIN SOLUTION\n",
    "X_train_scaled = X_scaler.transform(X_train)\n",
    "X_test_scaled = X_scaler.transform(X_test)\n",
    "y_train_scaled = y_scaler.transform(y_train)\n",
    "y_test_scaled = y_scaler.transform(y_test)\n",
    "### END SOLUTION"
   ]
  },
  {
   "cell_type": "code",
   "execution_count": 7,
   "metadata": {},
   "outputs": [
    {
     "data": {
      "text/plain": [
       "LinearRegression(copy_X=True, fit_intercept=True, n_jobs=None, normalize=False)"
      ]
     },
     "execution_count": 7,
     "metadata": {},
     "output_type": "execute_result"
    }
   ],
   "source": [
    "# Create a LinearRegression model and fit it to the scaled training data\n",
    "\n",
    "### BEGIN SOLUTION\n",
    "from sklearn.linear_model import LinearRegression\n",
    "model = LinearRegression()\n",
    "model.fit(X_train_scaled, y_train_scaled)\n",
    "### END SOLUTION"
   ]
  },
  {
   "cell_type": "code",
   "execution_count": 8,
   "metadata": {},
   "outputs": [
    {
     "data": {
      "image/png": "[encoded data removed]",
      "text/plain": [
       "<Figure size 432x288 with 1 Axes>"
      ]
     },
     "metadata": {
      "needs_background": "light"
     },
     "output_type": "display_data"
    }
   ],
   "source": [
    "# Make predictions using a fitted model\n",
    "# Plot the difference between the model predicted values and actual y values, versus the model predicted values\n",
    "# Hint: You can predict values of X training and testing data using the model.predict() method on a fitted model\n",
    "\n",
    "### BEGIN SOLUTION\n",
    "predictions = model.predict(X_test_scaled)\n",
    "model.fit(X_train_scaled, y_train_scaled)\n",
    "plt.scatter(model.predict(X_train_scaled), model.predict(X_train_scaled) - y_train_scaled, c=\"blue\", label=\"Training Data\")\n",
    "plt.scatter(model.predict(X_test_scaled), model.predict(X_test_scaled) - y_test_scaled, c=\"orange\", label=\"Testing Data\")\n",
    "plt.legend()\n",
    "plt.hlines(y=0, xmin=y_test_scaled.min(), xmax=y_test_scaled.max())\n",
    "plt.title(\"Residual Plot\")\n",
    "plt.show()\n",
    "### END SOLUTION"
   ]
  },
  {
   "cell_type": "code",
   "execution_count": 11,
   "metadata": {},
   "outputs": [
    {
     "name": "stdout",
     "output_type": "stream",
     "text": [
      "MSE: 0.21317314090950346, R2: 0.7565064491307333\n"
     ]
    }
   ],
   "source": [
    "# Used X_test_scaled, y_test_scaled, and model.predict(X_test_scaled) to calculate MSE and R2\n",
    "\n",
    "### BEGIN SOLUTION\n",
    "from sklearn.metrics import mean_squared_error\n",
    "\n",
    "MSE = mean_squared_error(y_test_scaled, predictions)\n",
    "r2 = model.score(X_test_scaled, y_test_scaled)\n",
    "### END SOLUTION\n",
    "\n",
    "print(f\"MSE: {MSE}, R2: {r2}\")"
   ]
  },
  {
   "cell_type": "code",
   "execution_count": 12,
   "metadata": {},
   "outputs": [
    {
     "name": "stdout",
     "output_type": "stream",
     "text": [
      "MSE: 0.2041577438842364, R2: 0.7668041396597216\n"
     ]
    }
   ],
   "source": [
    "# LASSO model\n",
    "# Note: Use an alpha of .01 when creating the model for this activity\n",
    "from sklearn.linear_model import Lasso\n",
    "\n",
    "### BEGIN SOLUTION\n",
    "lasso = Lasso(alpha=.01).fit(X_train_scaled, y_train_scaled)\n",
    "\n",
    "predictions = lasso.predict(X_test_scaled)\n",
    "\n",
    "MSE = mean_squared_error(y_test_scaled, predictions)\n",
    "r2 = lasso.score(X_test_scaled, y_test_scaled)\n",
    "### END SOLUTION\n",
    "\n",
    "print(f\"MSE: {MSE}, R2: {r2}\")"
   ]
  },
  {
   "cell_type": "code",
   "execution_count": 13,
   "metadata": {},
   "outputs": [
    {
     "name": "stdout",
     "output_type": "stream",
     "text": [
      "MSE: 0.21313708125931755, R2: 0.7565476376792971\n"
     ]
    }
   ],
   "source": [
    "# Ridge model\n",
    "# Note: Use an alpha of .01 when creating the model for this activity\n",
    "from sklearn.linear_model import Ridge\n",
    "\n",
    "### BEGIN SOLUTION\n",
    "ridge = Ridge(alpha=.01).fit(X_train_scaled, y_train_scaled)\n",
    "\n",
    "predictions = ridge.predict(X_test_scaled)\n",
    "\n",
    "MSE = mean_squared_error(y_test_scaled, predictions)\n",
    "r2 = ridge.score(X_test_scaled, y_test_scaled)\n",
    "### END SOLUTION\n",
    "\n",
    "print(f\"MSE: {MSE}, R2: {r2}\")"
   ]
  },
  {
   "cell_type": "code",
   "execution_count": 14,
   "metadata": {},
   "outputs": [
    {
     "name": "stdout",
     "output_type": "stream",
     "text": [
      "MSE: 0.2010477357180539, R2: 0.7703564958730106\n"
     ]
    }
   ],
   "source": [
    "# ElasticNet model\n",
    "# Note: Use an alpha of .01 when creating the model for this activity\n",
    "from sklearn.linear_model import ElasticNet\n",
    "\n",
    "### BEGIN SOLUTION\n",
    "elasticnet = ElasticNet(alpha=.01).fit(X_train_scaled, y_train_scaled)\n",
    "\n",
    "predictions = elasticnet.predict(X_test_scaled)\n",
    "\n",
    "MSE = mean_squared_error(y_test_scaled, predictions)\n",
    "r2 = elasticnet.score(X_test_scaled, y_test_scaled)\n",
    "### END SOLUTION\n",
    "\n",
    "print(f\"MSE: {MSE}, R2: {r2}\")"
   ]
  },
  {
   "cell_type": "markdown",
   "metadata": {},
   "source": [
    "## Save Models"
   ]
  },
  {
   "cell_type": "code",
   "execution_count": 15,
   "metadata": {},
   "outputs": [
    {
     "data": {
      "text/plain": [
       "['kaggle_LRE_Model_2.sav']"
      ]
     },
     "execution_count": 15,
     "metadata": {},
     "output_type": "execute_result"
    }
   ],
   "source": [
    "import joblib\n",
    "filename = 'kaggle_LRE_Model_2.sav'\n",
    "joblib.dump(model, filename)"
   ]
  },
  {
   "cell_type": "code",
   "execution_count": 16,
   "metadata": {},
   "outputs": [
    {
     "data": {
      "text/plain": [
       "['kaggle_LRE_Elastic_2.sav']"
      ]
     },
     "execution_count": 16,
     "metadata": {},
     "output_type": "execute_result"
    }
   ],
   "source": [
    "filename = 'kaggle_LRE_Elastic_2.sav'\n",
    "joblib.dump(elasticnet, filename)"
   ]
  },
  {
   "cell_type": "code",
   "execution_count": 17,
   "metadata": {},
   "outputs": [
    {
     "data": {
      "text/plain": [
       "['kaggle_LRE_Lassso_2.sav']"
      ]
     },
     "execution_count": 17,
     "metadata": {},
     "output_type": "execute_result"
    }
   ],
   "source": [
    "filename = 'kaggle_LRE_Lassso_2.sav'\n",
    "joblib.dump(lasso, filename)"
   ]
  },
  {
   "cell_type": "code",
   "execution_count": 18,
   "metadata": {},
   "outputs": [
    {
     "data": {
      "text/plain": [
       "['kaggle_LRE_Ridge_2.sav']"
      ]
     },
     "execution_count": 18,
     "metadata": {},
     "output_type": "execute_result"
    }
   ],
   "source": [
    "filename = 'kaggle_LRE_Ridge_2.sav'\n",
    "joblib.dump(ridge, filename)"
   ]
  },
  {
   "cell_type": "markdown",
   "metadata": {},
   "source": [
    "## Test models"
   ]
  },
  {
   "cell_type": "code",
   "execution_count": 19,
   "metadata": {},
   "outputs": [],
   "source": [
    "X = pd.DataFrame({\"nCLOTHIANIDIN\":[7696], \n",
    "          \"nIMIDACLOPRID\":[3258], \n",
    "          \"nTHIAMETHOXAM\":[4149], \n",
    "          \"nACETAMIPRID\":[0], \n",
    "          \"nTHIACLOPRID\":[0],\n",
    "          \"nAllNeonic\":[15103],\n",
    "          \"numcol\":[11000],\n",
    "          \"totalprod\":[616000]})"
   ]
  },
  {
   "cell_type": "code",
   "execution_count": 20,
   "metadata": {},
   "outputs": [],
   "source": [
    "model_2 = joblib.load('kaggle_LRE_Model_2.sav')"
   ]
  },
  {
   "cell_type": "code",
   "execution_count": 21,
   "metadata": {},
   "outputs": [
    {
     "data": {
      "text/plain": [
       "array([[57619.72645588]])"
      ]
     },
     "execution_count": 21,
     "metadata": {},
     "output_type": "execute_result"
    }
   ],
   "source": [
    "model_2.predict(X)"
   ]
  },
  {
   "cell_type": "code",
   "execution_count": 22,
   "metadata": {},
   "outputs": [],
   "source": [
    "elastic_2 = joblib.load('kaggle_LRE_Elastic_2.sav')"
   ]
  },
  {
   "cell_type": "code",
   "execution_count": 23,
   "metadata": {},
   "outputs": [
    {
     "data": {
      "text/plain": [
       "array([107577.79198957])"
      ]
     },
     "execution_count": 23,
     "metadata": {},
     "output_type": "execute_result"
    }
   ],
   "source": [
    "elastic_2.predict(X)"
   ]
  },
  {
   "cell_type": "code",
   "execution_count": 24,
   "metadata": {},
   "outputs": [],
   "source": [
    "lasso_2 = joblib.load('kaggle_LRE_Lassso_2.sav')"
   ]
  },
  {
   "cell_type": "code",
   "execution_count": 25,
   "metadata": {},
   "outputs": [
    {
     "data": {
      "text/plain": [
       "array([88480.51036059])"
      ]
     },
     "execution_count": 25,
     "metadata": {},
     "output_type": "execute_result"
    }
   ],
   "source": [
    "lasso_2.predict(X)"
   ]
  },
  {
   "cell_type": "code",
   "execution_count": 26,
   "metadata": {},
   "outputs": [],
   "source": [
    "ridge_2 = joblib.load('kaggle_LRE_Ridge_2.sav')"
   ]
  },
  {
   "cell_type": "code",
   "execution_count": 27,
   "metadata": {},
   "outputs": [
    {
     "data": {
      "text/plain": [
       "array([[57778.33811625]])"
      ]
     },
     "execution_count": 27,
     "metadata": {},
     "output_type": "execute_result"
    }
   ],
   "source": [
    "ridge_2.predict(X)"
   ]
  },
  {
   "cell_type": "code",
   "execution_count": null,
   "metadata": {},
   "outputs": [],
   "source": []
  }
 ],
 "metadata": {
  "kernelspec": {
   "display_name": "PythonAdv",
   "language": "python",
   "name": "pythonadv"
  },
  "language_info": {
   "codemirror_mode": {
    "name": "ipython",
    "version": 3
   },
   "file_extension": ".py",
   "mimetype": "text/x-python",
   "name": "python",
   "nbconvert_exporter": "python",
   "pygments_lexer": "ipython3",
   "version": "3.6.10"
  }
 },
 "nbformat": 4,
 "nbformat_minor": 4
}
