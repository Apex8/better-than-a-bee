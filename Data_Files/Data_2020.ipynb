{
 "cells": [
  {
   "cell_type": "code",
   "execution_count": null,
   "metadata": {},
   "outputs": [],
   "source": [
    "# Import Dependencies\n",
    "import pandas as pd\n",
    "import numpy as np"
   ]
  },
  {
   "cell_type": "markdown",
   "metadata": {},
   "source": [
    "## Import All Colony Data"
   ]
  },
  {
   "cell_type": "code",
   "execution_count": null,
   "metadata": {},
   "outputs": [],
   "source": [
    "csv_path = \"Data/Colony_Data/hcny_2020_1.csv\"\n",
    "colony_2020_1_df = pd.read_csv(csv_path)\n",
    "colony_2020_1_df.head()"
   ]
  },
  {
   "cell_type": "code",
   "execution_count": null,
   "metadata": {},
   "outputs": [],
   "source": [
    "# colony_2020_1_df.dtypes"
   ]
  },
  {
   "cell_type": "code",
   "execution_count": null,
   "metadata": {},
   "outputs": [],
   "source": [
    "csv_path = \"Data/Colony_Data/hcny_2020_2.csv\"\n",
    "colony_2020_2_df = pd.read_csv(csv_path)\n",
    "colony_2020_2_df.head()"
   ]
  },
  {
   "cell_type": "markdown",
   "metadata": {},
   "source": [
    "## Merge ALL Colony DataFrames and Calculate Sum"
   ]
  },
  {
   "cell_type": "code",
   "execution_count": null,
   "metadata": {},
   "outputs": [],
   "source": [
    "sum_2020_df = pd.concat((colony_2020_1_df, colony_2020_2_df))\n",
    "sum_2020_df"
   ]
  },
  {
   "cell_type": "code",
   "execution_count": null,
   "metadata": {},
   "outputs": [],
   "source": [
    "colony_2020_df = sum_2020_df.groupby(\"State\").sum()\n",
    "colony_2020_df.head()"
   ]
  },
  {
   "cell_type": "code",
   "execution_count": null,
   "metadata": {},
   "outputs": [],
   "source": [
    "# Remove Percent_Lost and Percent_Renovated Columns\n",
    "colony_2020_df = colony_2020_df[['Colony_Number', 'Max_Colony_Number', 'Lost_Colony_Number',\n",
    "                                 'Added_Colony_Number', 'Renovated_Colony_Number']]\n",
    "colony_2020_df"
   ]
  },
  {
   "cell_type": "markdown",
   "metadata": {},
   "source": [
    "## Import All Bee Stressor Data"
   ]
  },
  {
   "cell_type": "code",
   "execution_count": null,
   "metadata": {},
   "outputs": [],
   "source": [
    "csv_path = \"Data/Bee_Stressor_Data/Stressor_2020_1.csv\"\n",
    "stressor_2020_1_df = pd.read_csv(csv_path)\n",
    "stressor_2020_1_df.head()"
   ]
  },
  {
   "cell_type": "code",
   "execution_count": null,
   "metadata": {},
   "outputs": [],
   "source": [
    "csv_path = \"Data/Bee_Stressor_Data/Stressor_2020_2.csv\"\n",
    "stressor_2020_2_df = pd.read_csv(csv_path)\n",
    "stressor_2020_2_df.head()"
   ]
  },
  {
   "cell_type": "markdown",
   "metadata": {},
   "source": [
    "## Merge ALL Stressor DataFrames and Calculate Mean"
   ]
  },
  {
   "cell_type": "code",
   "execution_count": null,
   "metadata": {},
   "outputs": [],
   "source": [
    "stressor_all_df = pd.concat((stressor_2020_1_df, stressor_2020_2_df))\n",
    "stressor_all_df"
   ]
  },
  {
   "cell_type": "code",
   "execution_count": null,
   "metadata": {},
   "outputs": [],
   "source": [
    "stressor_2020_df = stressor_all_df.groupby(\"State\").mean()\n",
    "stressor_2020_df.head()"
   ]
  },
  {
   "cell_type": "code",
   "execution_count": null,
   "metadata": {},
   "outputs": [],
   "source": [
    "## Merge ALL DataFrames for 2020"
   ]
  },
  {
   "cell_type": "code",
   "execution_count": null,
   "metadata": {},
   "outputs": [],
   "source": [
    "csv_path = \"Data/Production_Data/honey_2020.csv\"\n",
    "honey_2020_df = pd.read_csv(csv_path)\n",
    "honey_2020_df.head()"
   ]
  },
  {
   "cell_type": "code",
   "execution_count": null,
   "metadata": {},
   "outputs": [],
   "source": [
    "merge_1_df = pd.merge(honey_2020_df, colony_2020_df, on=[\"State\"], how=\"outer\")\n",
    "merge_1_df.head()"
   ]
  },
  {
   "cell_type": "code",
   "execution_count": null,
   "metadata": {},
   "outputs": [],
   "source": [
    "data_2020_df = pd.merge(merge_1_df, stressor_2020_df, on=[\"State\"], how=\"outer\")\n",
    "data_2020_df"
   ]
  },
  {
   "cell_type": "code",
   "execution_count": null,
   "metadata": {},
   "outputs": [],
   "source": [
    "# csv files \n",
    "data_2020_df.to_csv('data_2020.csv', index=False, header=True)"
   ]
  },
  {
   "cell_type": "code",
   "execution_count": null,
   "metadata": {},
   "outputs": [],
   "source": []
  }
 ],
 "metadata": {
  "kernelspec": {
   "display_name": "PythonData",
   "language": "python",
   "name": "pythondata"
  },
  "language_info": {
   "codemirror_mode": {
    "name": "ipython",
    "version": 3
   },
   "file_extension": ".py",
   "mimetype": "text/x-python",
   "name": "python",
   "nbconvert_exporter": "python",
   "pygments_lexer": "ipython3",
   "version": "3.6.10"
  }
 },
 "nbformat": 4,
 "nbformat_minor": 4
}
